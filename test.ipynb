{
 "cells": [
  {
   "cell_type": "code",
   "execution_count": 1,
   "metadata": {},
   "outputs": [],
   "source": [
    "import numpy as np\n",
    "import pandas as pd\n",
    "import matplotlib.pyplot as plt\n",
    "\n",
    "%matplotlib inline"
   ]
  },
  {
   "cell_type": "code",
   "execution_count": 3,
   "metadata": {},
   "outputs": [],
   "source": [
    "data = pd.read_csv(\"C://dataset12.csv\")\n",
    "x = data.Time\n",
    "y = data.CDF"
   ]
  },
  {
   "cell_type": "code",
   "execution_count": 4,
   "metadata": {},
   "outputs": [
    {
     "data": {
      "text/html": [
       "<div>\n",
       "<style scoped>\n",
       "    .dataframe tbody tr th:only-of-type {\n",
       "        vertical-align: middle;\n",
       "    }\n",
       "\n",
       "    .dataframe tbody tr th {\n",
       "        vertical-align: top;\n",
       "    }\n",
       "\n",
       "    .dataframe thead th {\n",
       "        text-align: right;\n",
       "    }\n",
       "</style>\n",
       "<table border=\"1\" class=\"dataframe\">\n",
       "  <thead>\n",
       "    <tr style=\"text-align: right;\">\n",
       "      <th></th>\n",
       "      <th>Time</th>\n",
       "      <th>Faults</th>\n",
       "      <th>CDF</th>\n",
       "    </tr>\n",
       "  </thead>\n",
       "  <tbody>\n",
       "    <tr>\n",
       "      <th>0</th>\n",
       "      <td>1</td>\n",
       "      <td>1</td>\n",
       "      <td>1</td>\n",
       "    </tr>\n",
       "    <tr>\n",
       "      <th>1</th>\n",
       "      <td>2</td>\n",
       "      <td>6</td>\n",
       "      <td>7</td>\n",
       "    </tr>\n",
       "    <tr>\n",
       "      <th>2</th>\n",
       "      <td>3</td>\n",
       "      <td>0</td>\n",
       "      <td>7</td>\n",
       "    </tr>\n",
       "    <tr>\n",
       "      <th>3</th>\n",
       "      <td>4</td>\n",
       "      <td>2</td>\n",
       "      <td>9</td>\n",
       "    </tr>\n",
       "    <tr>\n",
       "      <th>4</th>\n",
       "      <td>5</td>\n",
       "      <td>0</td>\n",
       "      <td>9</td>\n",
       "    </tr>\n",
       "  </tbody>\n",
       "</table>\n",
       "</div>"
      ],
      "text/plain": [
       "   Time  Faults  CDF\n",
       "0     1       1    1\n",
       "1     2       6    7\n",
       "2     3       0    7\n",
       "3     4       2    9\n",
       "4     5       0    9"
      ]
     },
     "execution_count": 4,
     "metadata": {},
     "output_type": "execute_result"
    }
   ],
   "source": [
    "data.head()"
   ]
  },
  {
   "cell_type": "code",
   "execution_count": 8,
   "metadata": {},
   "outputs": [],
   "source": [
    "X = data.Time\n",
    "Y = data.CDF"
   ]
  },
  {
   "cell_type": "code",
   "execution_count": 5,
   "metadata": {},
   "outputs": [],
   "source": [
    "from scipy.optimize import minimize"
   ]
  },
  {
   "cell_type": "code",
   "execution_count": 36,
   "metadata": {},
   "outputs": [],
   "source": [
    "def hd(a, b, alpha, beta, t):\n",
    "    # return a*(1-np.exp(-b*t))\n",
    "    return (a/(1+beta*np.exp(-b*t)))*( (1-np.exp(-b*t))*(1-alpha/b) + alpha*t)"
   ]
  },
  {
   "cell_type": "code",
   "execution_count": 37,
   "metadata": {},
   "outputs": [],
   "source": [
    "def OLS(C, X, Y):\n",
    "    y = hd(C[0], C[1], C[2], C[3], X)\n",
    "    res = (y-Y)\n",
    "    sos = np.sum(res**2)\n",
    "    return sos\n",
    "\n",
    "def mse(C, X, Y):\n",
    "    n = len(Y)\n",
    "    p = len(C)\n",
    "    y = hd(C[0], C[1], C[2], C[3], X)\n",
    "    res = (y-Y)\n",
    "    mos = np.sum(res**2) / (n-p)\n",
    "    return mos"
   ]
  },
  {
   "cell_type": "code",
   "execution_count": 54,
   "metadata": {},
   "outputs": [],
   "source": [
    "res = minimize(fun=OLS, x0=[600, 0.01, 0.01, 1], args=(X, Y), method='Nelder-Mead')"
   ]
  },
  {
   "cell_type": "code",
   "execution_count": 55,
   "metadata": {},
   "outputs": [
    {
     "data": {
      "text/plain": [
       " final_simplex: (array([[1.67480712e+03, 4.59626184e-03, 3.02603696e-03, 3.53873936e+00],\n",
       "       [1.67336487e+03, 4.59519051e-03, 3.04366381e-03, 3.53614357e+00],\n",
       "       [1.64971416e+03, 4.63479475e-03, 3.03581155e-03, 3.50816922e+00],\n",
       "       [1.67028240e+03, 4.59524587e-03, 3.07923558e-03, 3.53056057e+00],\n",
       "       [1.64961200e+03, 4.63819228e-03, 3.00342254e-03, 3.50985955e+00]]), array([4783.36182937, 4783.45331883, 4783.45938979, 4783.48505533,\n",
       "       4783.4945    ]))\n",
       "           fun: 4783.361829372569\n",
       "       message: 'Maximum number of function evaluations has been exceeded.'\n",
       "          nfev: 800\n",
       "           nit: 476\n",
       "        status: 1\n",
       "       success: False\n",
       "             x: array([1.67480712e+03, 4.59626184e-03, 3.02603696e-03, 3.53873936e+00])"
      ]
     },
     "execution_count": 55,
     "metadata": {},
     "output_type": "execute_result"
    }
   ],
   "source": [
    "res"
   ]
  },
  {
   "cell_type": "code",
   "execution_count": 56,
   "metadata": {},
   "outputs": [
    {
     "name": "stdout",
     "output_type": "stream",
     "text": [
      "85.9192474729937\n",
      "85.41717552451017\n"
     ]
    }
   ],
   "source": [
    "print(mse([666.4, 0.003515, 0.006929, 0.3607], X, Y))\n",
    "print(mse(res.x, X, Y))"
   ]
  },
  {
   "cell_type": "code",
   "execution_count": null,
   "metadata": {},
   "outputs": [],
   "source": []
  }
 ],
 "metadata": {
  "interpreter": {
   "hash": "d90fbb0c4ad4757612a431952aef295ad2b79c2fa7682d0812bbab7892a4d3e2"
  },
  "kernelspec": {
   "display_name": "Python 3.9.6 64-bit",
   "language": "python",
   "name": "python3"
  },
  "language_info": {
   "codemirror_mode": {
    "name": "ipython",
    "version": 3
   },
   "file_extension": ".py",
   "mimetype": "text/x-python",
   "name": "python",
   "nbconvert_exporter": "python",
   "pygments_lexer": "ipython3",
   "version": "3.9.6"
  },
  "orig_nbformat": 4
 },
 "nbformat": 4,
 "nbformat_minor": 2
}
